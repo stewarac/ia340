{
 "cells": [
  {
   "cell_type": "code",
   "execution_count": 1,
   "metadata": {},
   "outputs": [
    {
     "name": "stdout",
     "output_type": "stream",
     "text": [
      "Requirement already satisfied: Psycopg2 in c:\\programdata\\anaconda3\\lib\\site-packages (2.8.3)\n"
     ]
    }
   ],
   "source": [
    "!pip install Psycopg2"
   ]
  },
  {
   "cell_type": "code",
   "execution_count": 2,
   "metadata": {},
   "outputs": [],
   "source": [
    "import pandas\n",
    "import configparser\n",
    "import psycopg2"
   ]
  },
  {
   "cell_type": "code",
   "execution_count": 3,
   "metadata": {},
   "outputs": [],
   "source": [
    "config = configparser.ConfigParser()\n",
    "config.read('config.ini')\n",
    "\n",
    "\n",
    "host = config['myaws']['host']\n",
    "user = config['myaws']['user']\n",
    "pwd = config['myaws']['pswd']\n",
    "database = config['myaws']['database']\n"
   ]
  },
  {
   "cell_type": "code",
   "execution_count": 4,
   "metadata": {},
   "outputs": [],
   "source": [
    "conn = psycopg2.connect(\n",
    "                        host = host,\n",
    "                            user = user,\n",
    "                            password = pwd,\n",
    "                            dbname = database)"
   ]
  },
  {
   "cell_type": "code",
   "execution_count": 5,
   "metadata": {},
   "outputs": [],
   "source": [
    "cur=conn.cursor()"
   ]
  },
  {
   "cell_type": "code",
   "execution_count": 6,
   "metadata": {},
   "outputs": [],
   "source": [
    "sql_statement = '''\n",
    "                select * from student_gp4\n",
    "                '''"
   ]
  },
  {
   "cell_type": "code",
   "execution_count": 7,
   "metadata": {},
   "outputs": [],
   "source": [
    "cur.execute(sql_statement)"
   ]
  },
  {
   "cell_type": "code",
   "execution_count": 8,
   "metadata": {},
   "outputs": [
    {
     "data": {
      "text/plain": [
       "('charbrow@jmu.edu                                                                                    ',\n",
       " 'Charlie brown\\n                                                                                      ',\n",
       " 'intelligence analysi')"
      ]
     },
     "execution_count": 8,
     "metadata": {},
     "output_type": "execute_result"
    }
   ],
   "source": [
    "cur.fetchone()"
   ]
  },
  {
   "cell_type": "markdown",
   "metadata": {},
   "source": [
    "# Q1"
   ]
  },
  {
   "cell_type": "code",
   "execution_count": 9,
   "metadata": {},
   "outputs": [
    {
     "name": "stdout",
     "output_type": "stream",
     "text": [
      "('jacwy@jmu.edu                                                                                       ', 'Jacey wyatt                                                                                         ', 'intelligence analysi')\n",
      "('jimbo@jmu.edu                                                                                       ', 'Jim bob                                                                                             ', 'intelligence analysi')\n",
      "('davcamp@jmu.edu                                                                                     ', 'David campora                                                                                       ', 'intelligence analysi')\n",
      "('alyhad@jmu.edu                                                                                      ', 'Alyssa hadfield                                                                                     ', 'intelligence analysi')\n",
      "('allstew@jmu.edu                                                                                     ', 'Allison stewart                                                                                     ', 'intelligence analysi')\n",
      "('demo_email                                                                                          ', 'demo_name                                                                                           ', 'GS                  ')\n"
     ]
    }
   ],
   "source": [
    "for result in cur.fetchall():\n",
    "    print(result)"
   ]
  },
  {
   "cell_type": "code",
   "execution_count": 10,
   "metadata": {},
   "outputs": [
    {
     "data": {
      "text/html": [
       "<div>\n",
       "<style scoped>\n",
       "    .dataframe tbody tr th:only-of-type {\n",
       "        vertical-align: middle;\n",
       "    }\n",
       "\n",
       "    .dataframe tbody tr th {\n",
       "        vertical-align: top;\n",
       "    }\n",
       "\n",
       "    .dataframe thead th {\n",
       "        text-align: right;\n",
       "    }\n",
       "</style>\n",
       "<table border=\"1\" class=\"dataframe\">\n",
       "  <thead>\n",
       "    <tr style=\"text-align: right;\">\n",
       "      <th></th>\n",
       "      <th>email</th>\n",
       "      <th>name</th>\n",
       "      <th>major</th>\n",
       "    </tr>\n",
       "  </thead>\n",
       "  <tbody>\n",
       "    <tr>\n",
       "      <th>0</th>\n",
       "      <td>charbrow@jmu.edu                              ...</td>\n",
       "      <td>Charlie brown\\n                               ...</td>\n",
       "      <td>intelligence analysi</td>\n",
       "    </tr>\n",
       "    <tr>\n",
       "      <th>1</th>\n",
       "      <td>jacwy@jmu.edu                                 ...</td>\n",
       "      <td>Jacey wyatt                                   ...</td>\n",
       "      <td>intelligence analysi</td>\n",
       "    </tr>\n",
       "    <tr>\n",
       "      <th>2</th>\n",
       "      <td>jimbo@jmu.edu                                 ...</td>\n",
       "      <td>Jim bob                                       ...</td>\n",
       "      <td>intelligence analysi</td>\n",
       "    </tr>\n",
       "    <tr>\n",
       "      <th>3</th>\n",
       "      <td>davcamp@jmu.edu                               ...</td>\n",
       "      <td>David campora                                 ...</td>\n",
       "      <td>intelligence analysi</td>\n",
       "    </tr>\n",
       "    <tr>\n",
       "      <th>4</th>\n",
       "      <td>alyhad@jmu.edu                                ...</td>\n",
       "      <td>Alyssa hadfield                               ...</td>\n",
       "      <td>intelligence analysi</td>\n",
       "    </tr>\n",
       "    <tr>\n",
       "      <th>5</th>\n",
       "      <td>allstew@jmu.edu                               ...</td>\n",
       "      <td>Allison stewart                               ...</td>\n",
       "      <td>intelligence analysi</td>\n",
       "    </tr>\n",
       "    <tr>\n",
       "      <th>6</th>\n",
       "      <td>demo_email                                    ...</td>\n",
       "      <td>demo_name                                     ...</td>\n",
       "      <td>GS</td>\n",
       "    </tr>\n",
       "  </tbody>\n",
       "</table>\n",
       "</div>"
      ],
      "text/plain": [
       "                                               email  \\\n",
       "0  charbrow@jmu.edu                              ...   \n",
       "1  jacwy@jmu.edu                                 ...   \n",
       "2  jimbo@jmu.edu                                 ...   \n",
       "3  davcamp@jmu.edu                               ...   \n",
       "4  alyhad@jmu.edu                                ...   \n",
       "5  allstew@jmu.edu                               ...   \n",
       "6  demo_email                                    ...   \n",
       "\n",
       "                                                name                 major  \n",
       "0  Charlie brown\\n                               ...  intelligence analysi  \n",
       "1  Jacey wyatt                                   ...  intelligence analysi  \n",
       "2  Jim bob                                       ...  intelligence analysi  \n",
       "3  David campora                                 ...  intelligence analysi  \n",
       "4  Alyssa hadfield                               ...  intelligence analysi  \n",
       "5  Allison stewart                               ...  intelligence analysi  \n",
       "6  demo_name                                     ...  GS                    "
      ]
     },
     "execution_count": 10,
     "metadata": {},
     "output_type": "execute_result"
    }
   ],
   "source": [
    "df = pandas.read_sql_query(sql_statement, conn)\n",
    "df[:]"
   ]
  },
  {
   "cell_type": "code",
   "execution_count": 11,
   "metadata": {},
   "outputs": [
    {
     "data": {
      "text/html": [
       "<div>\n",
       "<style scoped>\n",
       "    .dataframe tbody tr th:only-of-type {\n",
       "        vertical-align: middle;\n",
       "    }\n",
       "\n",
       "    .dataframe tbody tr th {\n",
       "        vertical-align: top;\n",
       "    }\n",
       "\n",
       "    .dataframe thead th {\n",
       "        text-align: right;\n",
       "    }\n",
       "</style>\n",
       "<table border=\"1\" class=\"dataframe\">\n",
       "  <thead>\n",
       "    <tr style=\"text-align: right;\">\n",
       "      <th></th>\n",
       "      <th>email</th>\n",
       "      <th>name</th>\n",
       "      <th>major</th>\n",
       "    </tr>\n",
       "  </thead>\n",
       "  <tbody>\n",
       "    <tr>\n",
       "      <th>count</th>\n",
       "      <td>7</td>\n",
       "      <td>7</td>\n",
       "      <td>7</td>\n",
       "    </tr>\n",
       "    <tr>\n",
       "      <th>unique</th>\n",
       "      <td>7</td>\n",
       "      <td>7</td>\n",
       "      <td>2</td>\n",
       "    </tr>\n",
       "    <tr>\n",
       "      <th>top</th>\n",
       "      <td>charbrow@jmu.edu                              ...</td>\n",
       "      <td>Allison stewart                               ...</td>\n",
       "      <td>intelligence analysi</td>\n",
       "    </tr>\n",
       "    <tr>\n",
       "      <th>freq</th>\n",
       "      <td>1</td>\n",
       "      <td>1</td>\n",
       "      <td>6</td>\n",
       "    </tr>\n",
       "  </tbody>\n",
       "</table>\n",
       "</div>"
      ],
      "text/plain": [
       "                                                    email  \\\n",
       "count                                                   7   \n",
       "unique                                                  7   \n",
       "top     charbrow@jmu.edu                              ...   \n",
       "freq                                                    1   \n",
       "\n",
       "                                                     name  \\\n",
       "count                                                   7   \n",
       "unique                                                  7   \n",
       "top     Allison stewart                               ...   \n",
       "freq                                                    1   \n",
       "\n",
       "                       major  \n",
       "count                      7  \n",
       "unique                     2  \n",
       "top     intelligence analysi  \n",
       "freq                       6  "
      ]
     },
     "execution_count": 11,
     "metadata": {},
     "output_type": "execute_result"
    }
   ],
   "source": [
    "df.describe()"
   ]
  },
  {
   "cell_type": "markdown",
   "metadata": {},
   "source": [
    "# Q2"
   ]
  },
  {
   "cell_type": "code",
   "execution_count": 12,
   "metadata": {},
   "outputs": [],
   "source": [
    "sql_statement = '''\n",
    "                select cname, count(semail) from enroll_gp4 group by cname\n",
    "                order by count(semail) desc\n",
    "                limit 1\n",
    "                '''"
   ]
  },
  {
   "cell_type": "code",
   "execution_count": 13,
   "metadata": {},
   "outputs": [
    {
     "data": {
      "text/html": [
       "<div>\n",
       "<style scoped>\n",
       "    .dataframe tbody tr th:only-of-type {\n",
       "        vertical-align: middle;\n",
       "    }\n",
       "\n",
       "    .dataframe tbody tr th {\n",
       "        vertical-align: top;\n",
       "    }\n",
       "\n",
       "    .dataframe thead th {\n",
       "        text-align: right;\n",
       "    }\n",
       "</style>\n",
       "<table border=\"1\" class=\"dataframe\">\n",
       "  <thead>\n",
       "    <tr style=\"text-align: right;\">\n",
       "      <th></th>\n",
       "      <th>cname</th>\n",
       "      <th>count</th>\n",
       "    </tr>\n",
       "  </thead>\n",
       "  <tbody>\n",
       "    <tr>\n",
       "      <th>0</th>\n",
       "      <td>ia460                                         ...</td>\n",
       "      <td>2</td>\n",
       "    </tr>\n",
       "  </tbody>\n",
       "</table>\n",
       "</div>"
      ],
      "text/plain": [
       "                                               cname  count\n",
       "0  ia460                                         ...      2"
      ]
     },
     "execution_count": 13,
     "metadata": {},
     "output_type": "execute_result"
    }
   ],
   "source": [
    "df = pandas.read_sql_query(sql_statement, conn)\n",
    "df[:]"
   ]
  },
  {
   "cell_type": "markdown",
   "metadata": {},
   "source": [
    "# Q3"
   ]
  },
  {
   "cell_type": "code",
   "execution_count": 14,
   "metadata": {},
   "outputs": [],
   "source": [
    "sql_statement = '''\n",
    "                select \n",
    "                *\n",
    "                from teacher_gp4\n",
    "                inner join course_gp4\n",
    "                on teacher_gp4.email = course_gp4.temail\n",
    "                '''"
   ]
  },
  {
   "cell_type": "code",
   "execution_count": 15,
   "metadata": {},
   "outputs": [
    {
     "data": {
      "text/html": [
       "<div>\n",
       "<style scoped>\n",
       "    .dataframe tbody tr th:only-of-type {\n",
       "        vertical-align: middle;\n",
       "    }\n",
       "\n",
       "    .dataframe tbody tr th {\n",
       "        vertical-align: top;\n",
       "    }\n",
       "\n",
       "    .dataframe thead th {\n",
       "        text-align: right;\n",
       "    }\n",
       "</style>\n",
       "<table border=\"1\" class=\"dataframe\">\n",
       "  <thead>\n",
       "    <tr style=\"text-align: right;\">\n",
       "      <th></th>\n",
       "      <th>email</th>\n",
       "      <th>name</th>\n",
       "      <th>office</th>\n",
       "      <th>name</th>\n",
       "      <th>room</th>\n",
       "      <th>temail</th>\n",
       "    </tr>\n",
       "  </thead>\n",
       "  <tbody>\n",
       "    <tr>\n",
       "      <th>0</th>\n",
       "      <td>waltontr@jmu.edu                              ...</td>\n",
       "      <td>timothy walton                                ...</td>\n",
       "      <td>isat326</td>\n",
       "      <td>ia460                                         ...</td>\n",
       "      <td>1204</td>\n",
       "      <td>waltontr@jmu.edu                              ...</td>\n",
       "    </tr>\n",
       "    <tr>\n",
       "      <th>1</th>\n",
       "      <td>waltontr@jmu.edu                              ...</td>\n",
       "      <td>timothy walton                                ...</td>\n",
       "      <td>isat326</td>\n",
       "      <td>ia200                                         ...</td>\n",
       "      <td>1209</td>\n",
       "      <td>waltontr@jmu.edu                              ...</td>\n",
       "    </tr>\n",
       "    <tr>\n",
       "      <th>2</th>\n",
       "      <td>weixx@jmu.edu                                 ...</td>\n",
       "      <td>xeubin wei                                    ...</td>\n",
       "      <td>hhs112</td>\n",
       "      <td>ia241                                         ...</td>\n",
       "      <td>2010</td>\n",
       "      <td>weixx@jmu.edu                                 ...</td>\n",
       "    </tr>\n",
       "    <tr>\n",
       "      <th>3</th>\n",
       "      <td>teateaa@jmu.edu                               ...</td>\n",
       "      <td>anthony teate                                 ...</td>\n",
       "      <td>isat126</td>\n",
       "      <td>ia341                                         ...</td>\n",
       "      <td>1202</td>\n",
       "      <td>teateaa@jmu.edu                               ...</td>\n",
       "    </tr>\n",
       "    <tr>\n",
       "      <th>4</th>\n",
       "      <td>waltontr@jmu.edu                              ...</td>\n",
       "      <td>timothy walton                                ...</td>\n",
       "      <td>isat326</td>\n",
       "      <td>ia214                                         ...</td>\n",
       "      <td>1204</td>\n",
       "      <td>waltontr@jmu.edu                              ...</td>\n",
       "    </tr>\n",
       "    <tr>\n",
       "      <th>5</th>\n",
       "      <td>benfranklin@jmu.edu                           ...</td>\n",
       "      <td>ben franklin                                  ...</td>\n",
       "      <td>isat 123</td>\n",
       "      <td>Econ 300                                      ...</td>\n",
       "      <td>Godwin 211</td>\n",
       "      <td>benfranklin@jmu.edu                           ...</td>\n",
       "    </tr>\n",
       "    <tr>\n",
       "      <th>6</th>\n",
       "      <td>benfranklin@jmu.edu                           ...</td>\n",
       "      <td>ben franklin                                  ...</td>\n",
       "      <td>isat 123</td>\n",
       "      <td>econ 300                                      ...</td>\n",
       "      <td>isat 211</td>\n",
       "      <td>benfranklin@jmu.edu                           ...</td>\n",
       "    </tr>\n",
       "    <tr>\n",
       "      <th>7</th>\n",
       "      <td>benfranklin@jmu.edu                           ...</td>\n",
       "      <td>ben franklin                                  ...</td>\n",
       "      <td>isat 123</td>\n",
       "      <td>ia210                                         ...</td>\n",
       "      <td>2202</td>\n",
       "      <td>benfranklin@jmu.edu                           ...</td>\n",
       "    </tr>\n",
       "    <tr>\n",
       "      <th>8</th>\n",
       "      <td>phil@jmu.edu                                  ...</td>\n",
       "      <td>phil lewis                                    ...</td>\n",
       "      <td>isat 123</td>\n",
       "      <td>ia 250                                        ...</td>\n",
       "      <td>2502</td>\n",
       "      <td>phil@jmu.edu                                  ...</td>\n",
       "    </tr>\n",
       "  </tbody>\n",
       "</table>\n",
       "</div>"
      ],
      "text/plain": [
       "                                               email  \\\n",
       "0  waltontr@jmu.edu                              ...   \n",
       "1  waltontr@jmu.edu                              ...   \n",
       "2  weixx@jmu.edu                                 ...   \n",
       "3  teateaa@jmu.edu                               ...   \n",
       "4  waltontr@jmu.edu                              ...   \n",
       "5  benfranklin@jmu.edu                           ...   \n",
       "6  benfranklin@jmu.edu                           ...   \n",
       "7  benfranklin@jmu.edu                           ...   \n",
       "8  phil@jmu.edu                                  ...   \n",
       "\n",
       "                                                name                office  \\\n",
       "0  timothy walton                                ...  isat326                \n",
       "1  timothy walton                                ...  isat326                \n",
       "2  xeubin wei                                    ...  hhs112                 \n",
       "3  anthony teate                                 ...  isat126                \n",
       "4  timothy walton                                ...  isat326                \n",
       "5  ben franklin                                  ...  isat 123               \n",
       "6  ben franklin                                  ...  isat 123               \n",
       "7  ben franklin                                  ...  isat 123               \n",
       "8  phil lewis                                    ...  isat 123               \n",
       "\n",
       "                                                name                  room  \\\n",
       "0  ia460                                         ...  1204                   \n",
       "1  ia200                                         ...  1209                   \n",
       "2  ia241                                         ...  2010                   \n",
       "3  ia341                                         ...  1202                   \n",
       "4  ia214                                         ...  1204                   \n",
       "5  Econ 300                                      ...  Godwin 211             \n",
       "6  econ 300                                      ...  isat 211               \n",
       "7  ia210                                         ...  2202                   \n",
       "8  ia 250                                        ...  2502                   \n",
       "\n",
       "                                              temail  \n",
       "0  waltontr@jmu.edu                              ...  \n",
       "1  waltontr@jmu.edu                              ...  \n",
       "2  weixx@jmu.edu                                 ...  \n",
       "3  teateaa@jmu.edu                               ...  \n",
       "4  waltontr@jmu.edu                              ...  \n",
       "5  benfranklin@jmu.edu                           ...  \n",
       "6  benfranklin@jmu.edu                           ...  \n",
       "7  benfranklin@jmu.edu                           ...  \n",
       "8  phil@jmu.edu                                  ...  "
      ]
     },
     "execution_count": 15,
     "metadata": {},
     "output_type": "execute_result"
    }
   ],
   "source": [
    "df = pandas.read_sql_query(sql_statement, conn)\n",
    "df[:]"
   ]
  },
  {
   "cell_type": "markdown",
   "metadata": {},
   "source": [
    "# Q4"
   ]
  },
  {
   "cell_type": "code",
   "execution_count": 16,
   "metadata": {},
   "outputs": [],
   "source": [
    "sql_statement = '''\n",
    "                select \n",
    "                teacher_gp4.name as tname,\n",
    "                count (course_gp4.name) as course_num\n",
    "                from teacher_gp4\n",
    "                inner join course_gp4\n",
    "                on teacher_gp4.email = course_gp4.temail\n",
    "                group by teacher_gp4.name\n",
    "                order by course_num desc\n",
    "                limit 1\n",
    "                '''"
   ]
  },
  {
   "cell_type": "code",
   "execution_count": 17,
   "metadata": {},
   "outputs": [
    {
     "data": {
      "text/html": [
       "<div>\n",
       "<style scoped>\n",
       "    .dataframe tbody tr th:only-of-type {\n",
       "        vertical-align: middle;\n",
       "    }\n",
       "\n",
       "    .dataframe tbody tr th {\n",
       "        vertical-align: top;\n",
       "    }\n",
       "\n",
       "    .dataframe thead th {\n",
       "        text-align: right;\n",
       "    }\n",
       "</style>\n",
       "<table border=\"1\" class=\"dataframe\">\n",
       "  <thead>\n",
       "    <tr style=\"text-align: right;\">\n",
       "      <th></th>\n",
       "      <th>tname</th>\n",
       "      <th>course_num</th>\n",
       "    </tr>\n",
       "  </thead>\n",
       "  <tbody>\n",
       "    <tr>\n",
       "      <th>0</th>\n",
       "      <td>timothy walton                                ...</td>\n",
       "      <td>3</td>\n",
       "    </tr>\n",
       "  </tbody>\n",
       "</table>\n",
       "</div>"
      ],
      "text/plain": [
       "                                               tname  course_num\n",
       "0  timothy walton                                ...           3"
      ]
     },
     "execution_count": 17,
     "metadata": {},
     "output_type": "execute_result"
    }
   ],
   "source": [
    "df = pandas.read_sql_query(sql_statement, conn)\n",
    "df[:]"
   ]
  },
  {
   "cell_type": "markdown",
   "metadata": {},
   "source": [
    "# Q5"
   ]
  },
  {
   "cell_type": "code",
   "execution_count": 18,
   "metadata": {},
   "outputs": [
    {
     "name": "stdout",
     "output_type": "stream",
     "text": [
      "\n",
      "                        insert into teacher_gp4(email,name,office)\n",
      "                        values('phil@jmu.edu','phil lewis','isat 123')\n",
      "                        \n"
     ]
    }
   ],
   "source": [
    "sql_insert_statement = '''\n",
    "                        insert into teacher_gp4(email,name,office)\n",
    "                        values('{}','{}','{}')\n",
    "                        '''.format('phil@jmu.edu','phil lewis', 'isat 123')\n",
    "print(sql_insert_statement)"
   ]
  },
  {
   "cell_type": "code",
   "execution_count": 19,
   "metadata": {},
   "outputs": [
    {
     "ename": "UniqueViolation",
     "evalue": "duplicate key value violates unique constraint \"teacher_gp4_pkey\"\nDETAIL:  Key (email)=(phil@jmu.edu                                                                                        ) already exists.\n",
     "output_type": "error",
     "traceback": [
      "\u001b[1;31m---------------------------------------------------------------------------\u001b[0m",
      "\u001b[1;31mUniqueViolation\u001b[0m                           Traceback (most recent call last)",
      "\u001b[1;32m<ipython-input-19-aa1d8444be3c>\u001b[0m in \u001b[0;36m<module>\u001b[1;34m()\u001b[0m\n\u001b[1;32m----> 1\u001b[1;33m \u001b[0mcur\u001b[0m\u001b[1;33m.\u001b[0m\u001b[0mexecute\u001b[0m\u001b[1;33m(\u001b[0m\u001b[0msql_insert_statement\u001b[0m\u001b[1;33m)\u001b[0m\u001b[1;33m\u001b[0m\u001b[0m\n\u001b[0m",
      "\u001b[1;31mUniqueViolation\u001b[0m: duplicate key value violates unique constraint \"teacher_gp4_pkey\"\nDETAIL:  Key (email)=(phil@jmu.edu                                                                                        ) already exists.\n"
     ]
    }
   ],
   "source": [
    "cur.execute(sql_insert_statement)"
   ]
  },
  {
   "cell_type": "code",
   "execution_count": null,
   "metadata": {},
   "outputs": [],
   "source": [
    "conn.commit()"
   ]
  },
  {
   "cell_type": "code",
   "execution_count": null,
   "metadata": {},
   "outputs": [],
   "source": [
    "df = pandas.read_sql_query(\"select * from teacher_gp4\", conn)\n",
    "df[:]"
   ]
  },
  {
   "cell_type": "code",
   "execution_count": null,
   "metadata": {},
   "outputs": [],
   "source": [
    "sql_insert_statement = '''\n",
    "                        insert into course_gp4(name,room,temail)\n",
    "                        values('{}','{}','{}')\n",
    "                        '''.format('ia 250','2502', 'phil@jmu.edu')\n",
    "print(sql_insert_statement)"
   ]
  },
  {
   "cell_type": "code",
   "execution_count": null,
   "metadata": {},
   "outputs": [],
   "source": [
    "cur.execute(sql_insert_statement)"
   ]
  },
  {
   "cell_type": "code",
   "execution_count": null,
   "metadata": {},
   "outputs": [],
   "source": [
    "conn.commit()"
   ]
  },
  {
   "cell_type": "code",
   "execution_count": null,
   "metadata": {},
   "outputs": [],
   "source": [
    "df = pandas.read_sql_query(\"select * from course_gp4\", conn)\n",
    "df[:]"
   ]
  },
  {
   "cell_type": "markdown",
   "metadata": {},
   "source": [
    "# Q6"
   ]
  },
  {
   "cell_type": "code",
   "execution_count": 24,
   "metadata": {},
   "outputs": [],
   "source": [
    "sql_insert_statement =  '''\n",
    "                        update course_gp4\n",
    "                        set temail = 'phil@jmu.edu'\n",
    "                        where temail = 'teateaa@jmu.edu'\n",
    "                        '''"
   ]
  },
  {
   "cell_type": "code",
   "execution_count": 25,
   "metadata": {},
   "outputs": [],
   "source": [
    "cur.execute(sql_insert_statement)"
   ]
  },
  {
   "cell_type": "code",
   "execution_count": 26,
   "metadata": {},
   "outputs": [],
   "source": [
    "conn.commit()"
   ]
  },
  {
   "cell_type": "code",
   "execution_count": 27,
   "metadata": {},
   "outputs": [
    {
     "data": {
      "text/html": [
       "<div>\n",
       "<style scoped>\n",
       "    .dataframe tbody tr th:only-of-type {\n",
       "        vertical-align: middle;\n",
       "    }\n",
       "\n",
       "    .dataframe tbody tr th {\n",
       "        vertical-align: top;\n",
       "    }\n",
       "\n",
       "    .dataframe thead th {\n",
       "        text-align: right;\n",
       "    }\n",
       "</style>\n",
       "<table border=\"1\" class=\"dataframe\">\n",
       "  <thead>\n",
       "    <tr style=\"text-align: right;\">\n",
       "      <th></th>\n",
       "      <th>name</th>\n",
       "      <th>room</th>\n",
       "      <th>temail</th>\n",
       "    </tr>\n",
       "  </thead>\n",
       "  <tbody>\n",
       "    <tr>\n",
       "      <th>0</th>\n",
       "      <td>ia460                                         ...</td>\n",
       "      <td>1204</td>\n",
       "      <td>waltontr@jmu.edu                              ...</td>\n",
       "    </tr>\n",
       "    <tr>\n",
       "      <th>1</th>\n",
       "      <td>ia200                                         ...</td>\n",
       "      <td>1209</td>\n",
       "      <td>waltontr@jmu.edu                              ...</td>\n",
       "    </tr>\n",
       "    <tr>\n",
       "      <th>2</th>\n",
       "      <td>ia241                                         ...</td>\n",
       "      <td>2010</td>\n",
       "      <td>weixx@jmu.edu                                 ...</td>\n",
       "    </tr>\n",
       "    <tr>\n",
       "      <th>3</th>\n",
       "      <td>ia214                                         ...</td>\n",
       "      <td>1204</td>\n",
       "      <td>waltontr@jmu.edu                              ...</td>\n",
       "    </tr>\n",
       "    <tr>\n",
       "      <th>4</th>\n",
       "      <td>Econ 300                                      ...</td>\n",
       "      <td>Godwin 211</td>\n",
       "      <td>benfranklin@jmu.edu                           ...</td>\n",
       "    </tr>\n",
       "    <tr>\n",
       "      <th>5</th>\n",
       "      <td>econ 300                                      ...</td>\n",
       "      <td>isat 211</td>\n",
       "      <td>benfranklin@jmu.edu                           ...</td>\n",
       "    </tr>\n",
       "    <tr>\n",
       "      <th>6</th>\n",
       "      <td>ia210                                         ...</td>\n",
       "      <td>2202</td>\n",
       "      <td>benfranklin@jmu.edu                           ...</td>\n",
       "    </tr>\n",
       "    <tr>\n",
       "      <th>7</th>\n",
       "      <td>ia 250                                        ...</td>\n",
       "      <td>2502</td>\n",
       "      <td>phil@jmu.edu                                  ...</td>\n",
       "    </tr>\n",
       "    <tr>\n",
       "      <th>8</th>\n",
       "      <td>ia341                                         ...</td>\n",
       "      <td>1202</td>\n",
       "      <td>phil@jmu.edu                                  ...</td>\n",
       "    </tr>\n",
       "  </tbody>\n",
       "</table>\n",
       "</div>"
      ],
      "text/plain": [
       "                                                name                  room  \\\n",
       "0  ia460                                         ...  1204                   \n",
       "1  ia200                                         ...  1209                   \n",
       "2  ia241                                         ...  2010                   \n",
       "3  ia214                                         ...  1204                   \n",
       "4  Econ 300                                      ...  Godwin 211             \n",
       "5  econ 300                                      ...  isat 211               \n",
       "6  ia210                                         ...  2202                   \n",
       "7  ia 250                                        ...  2502                   \n",
       "8  ia341                                         ...  1202                   \n",
       "\n",
       "                                              temail  \n",
       "0  waltontr@jmu.edu                              ...  \n",
       "1  waltontr@jmu.edu                              ...  \n",
       "2  weixx@jmu.edu                                 ...  \n",
       "3  waltontr@jmu.edu                              ...  \n",
       "4  benfranklin@jmu.edu                           ...  \n",
       "5  benfranklin@jmu.edu                           ...  \n",
       "6  benfranklin@jmu.edu                           ...  \n",
       "7  phil@jmu.edu                                  ...  \n",
       "8  phil@jmu.edu                                  ...  "
      ]
     },
     "execution_count": 27,
     "metadata": {},
     "output_type": "execute_result"
    }
   ],
   "source": [
    "df = pandas.read_sql_query(\"select * from course_gp4\", conn)\n",
    "df[:]"
   ]
  },
  {
   "cell_type": "code",
   "execution_count": 22,
   "metadata": {},
   "outputs": [
    {
     "data": {
      "text/html": [
       "<div>\n",
       "<style scoped>\n",
       "    .dataframe tbody tr th:only-of-type {\n",
       "        vertical-align: middle;\n",
       "    }\n",
       "\n",
       "    .dataframe tbody tr th {\n",
       "        vertical-align: top;\n",
       "    }\n",
       "\n",
       "    .dataframe thead th {\n",
       "        text-align: right;\n",
       "    }\n",
       "</style>\n",
       "<table border=\"1\" class=\"dataframe\">\n",
       "  <thead>\n",
       "    <tr style=\"text-align: right;\">\n",
       "      <th></th>\n",
       "      <th>email</th>\n",
       "      <th>name</th>\n",
       "      <th>office</th>\n",
       "    </tr>\n",
       "  </thead>\n",
       "  <tbody>\n",
       "    <tr>\n",
       "      <th>0</th>\n",
       "      <td>weixx@jmu.edu                                 ...</td>\n",
       "      <td>xeubin wei                                    ...</td>\n",
       "      <td>hhs112</td>\n",
       "    </tr>\n",
       "    <tr>\n",
       "      <th>1</th>\n",
       "      <td>waltontr@jmu.edu                              ...</td>\n",
       "      <td>timothy walton                                ...</td>\n",
       "      <td>isat326</td>\n",
       "    </tr>\n",
       "    <tr>\n",
       "      <th>2</th>\n",
       "      <td>teateaa@jmu.edu                               ...</td>\n",
       "      <td>anthony teate                                 ...</td>\n",
       "      <td>isat126</td>\n",
       "    </tr>\n",
       "    <tr>\n",
       "      <th>3</th>\n",
       "      <td>tangjd@jmu.edu\\n                              ...</td>\n",
       "      <td>jeffrey tang                                  ...</td>\n",
       "      <td>isat368</td>\n",
       "    </tr>\n",
       "    <tr>\n",
       "      <th>4</th>\n",
       "      <td>benfranklin@jmu.edu                           ...</td>\n",
       "      <td>ben franklin                                  ...</td>\n",
       "      <td>isat 123</td>\n",
       "    </tr>\n",
       "    <tr>\n",
       "      <th>5</th>\n",
       "      <td>phil@jmu.edu                                  ...</td>\n",
       "      <td>phil lewis                                    ...</td>\n",
       "      <td>isat 123</td>\n",
       "    </tr>\n",
       "  </tbody>\n",
       "</table>\n",
       "</div>"
      ],
      "text/plain": [
       "                                               email  \\\n",
       "0  weixx@jmu.edu                                 ...   \n",
       "1  waltontr@jmu.edu                              ...   \n",
       "2  teateaa@jmu.edu                               ...   \n",
       "3  tangjd@jmu.edu\\n                              ...   \n",
       "4  benfranklin@jmu.edu                           ...   \n",
       "5  phil@jmu.edu                                  ...   \n",
       "\n",
       "                                                name                office  \n",
       "0  xeubin wei                                    ...  hhs112                \n",
       "1  timothy walton                                ...  isat326               \n",
       "2  anthony teate                                 ...  isat126               \n",
       "3  jeffrey tang                                  ...  isat368               \n",
       "4  ben franklin                                  ...  isat 123              \n",
       "5  phil lewis                                    ...  isat 123              "
      ]
     },
     "execution_count": 22,
     "metadata": {},
     "output_type": "execute_result"
    }
   ],
   "source": []
  },
  {
   "cell_type": "code",
   "execution_count": 28,
   "metadata": {},
   "outputs": [],
   "source": [
    "sql_insert_statement =  '''\n",
    "                        delete from teacher_gp4\n",
    "                        where email = 'teateaa@jmu.edu'\n",
    "                        '''"
   ]
  },
  {
   "cell_type": "code",
   "execution_count": 29,
   "metadata": {},
   "outputs": [],
   "source": [
    "cur.execute(sql_insert_statement)"
   ]
  },
  {
   "cell_type": "code",
   "execution_count": 30,
   "metadata": {},
   "outputs": [],
   "source": [
    "conn.commit()"
   ]
  },
  {
   "cell_type": "code",
   "execution_count": 31,
   "metadata": {},
   "outputs": [
    {
     "data": {
      "text/html": [
       "<div>\n",
       "<style scoped>\n",
       "    .dataframe tbody tr th:only-of-type {\n",
       "        vertical-align: middle;\n",
       "    }\n",
       "\n",
       "    .dataframe tbody tr th {\n",
       "        vertical-align: top;\n",
       "    }\n",
       "\n",
       "    .dataframe thead th {\n",
       "        text-align: right;\n",
       "    }\n",
       "</style>\n",
       "<table border=\"1\" class=\"dataframe\">\n",
       "  <thead>\n",
       "    <tr style=\"text-align: right;\">\n",
       "      <th></th>\n",
       "      <th>email</th>\n",
       "      <th>name</th>\n",
       "      <th>office</th>\n",
       "    </tr>\n",
       "  </thead>\n",
       "  <tbody>\n",
       "    <tr>\n",
       "      <th>0</th>\n",
       "      <td>weixx@jmu.edu                                 ...</td>\n",
       "      <td>xeubin wei                                    ...</td>\n",
       "      <td>hhs112</td>\n",
       "    </tr>\n",
       "    <tr>\n",
       "      <th>1</th>\n",
       "      <td>waltontr@jmu.edu                              ...</td>\n",
       "      <td>timothy walton                                ...</td>\n",
       "      <td>isat326</td>\n",
       "    </tr>\n",
       "    <tr>\n",
       "      <th>2</th>\n",
       "      <td>tangjd@jmu.edu\\n                              ...</td>\n",
       "      <td>jeffrey tang                                  ...</td>\n",
       "      <td>isat368</td>\n",
       "    </tr>\n",
       "    <tr>\n",
       "      <th>3</th>\n",
       "      <td>benfranklin@jmu.edu                           ...</td>\n",
       "      <td>ben franklin                                  ...</td>\n",
       "      <td>isat 123</td>\n",
       "    </tr>\n",
       "    <tr>\n",
       "      <th>4</th>\n",
       "      <td>phil@jmu.edu                                  ...</td>\n",
       "      <td>phil lewis                                    ...</td>\n",
       "      <td>isat 123</td>\n",
       "    </tr>\n",
       "  </tbody>\n",
       "</table>\n",
       "</div>"
      ],
      "text/plain": [
       "                                               email  \\\n",
       "0  weixx@jmu.edu                                 ...   \n",
       "1  waltontr@jmu.edu                              ...   \n",
       "2  tangjd@jmu.edu\\n                              ...   \n",
       "3  benfranklin@jmu.edu                           ...   \n",
       "4  phil@jmu.edu                                  ...   \n",
       "\n",
       "                                                name                office  \n",
       "0  xeubin wei                                    ...  hhs112                \n",
       "1  timothy walton                                ...  isat326               \n",
       "2  jeffrey tang                                  ...  isat368               \n",
       "3  ben franklin                                  ...  isat 123              \n",
       "4  phil lewis                                    ...  isat 123              "
      ]
     },
     "execution_count": 31,
     "metadata": {},
     "output_type": "execute_result"
    }
   ],
   "source": [
    "df = pandas.read_sql_query(\"select * from teacher_gp4\", conn)\n",
    "df[:]"
   ]
  },
  {
   "cell_type": "code",
   "execution_count": null,
   "metadata": {},
   "outputs": [],
   "source": []
  }
 ],
 "metadata": {
  "kernelspec": {
   "display_name": "Python 3",
   "language": "python",
   "name": "python3"
  },
  "language_info": {
   "codemirror_mode": {
    "name": "ipython",
    "version": 3
   },
   "file_extension": ".py",
   "mimetype": "text/x-python",
   "name": "python",
   "nbconvert_exporter": "python",
   "pygments_lexer": "ipython3",
   "version": "3.6.5"
  }
 },
 "nbformat": 4,
 "nbformat_minor": 2
}
